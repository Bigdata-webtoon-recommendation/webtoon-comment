{
  "nbformat": 4,
  "nbformat_minor": 0,
  "metadata": {
    "colab": {
      "name": "final_recommend_user_based.ipynb",
      "provenance": []
    },
    "kernelspec": {
      "display_name": "Python 3",
      "language": "python",
      "name": "python3"
    },
    "language_info": {
      "codemirror_mode": {
        "name": "ipython",
        "version": 3
      },
      "file_extension": ".py",
      "mimetype": "text/x-python",
      "name": "python",
      "nbconvert_exporter": "python",
      "pygments_lexer": "ipython3",
      "version": "3.7.3"
    }
  },
  "cells": [
    {
      "cell_type": "code",
      "metadata": {
        "colab": {
          "base_uri": "https://localhost:8080/"
        },
        "id": "t8sI2qLCVacw",
        "outputId": "0ebbf480-7abc-4d0c-804c-8646c4a53410"
      },
      "source": [
        "pip install fastparquet"
      ],
      "execution_count": 1,
      "outputs": [
        {
          "output_type": "stream",
          "text": [
            "Collecting fas\n",
            "  Using cached https://files.pythonhosted.org/packages/48/2b/0f5542c5ae98c13fdb27bf3ac57d66916e34b880c84b567105123a96abab/fas-0.1.5.tar.gz\n",
            "\u001b[31mERROR: Could not find a version that satisfies the requirement tparquet (from versions: none)\u001b[0m\n",
            "\u001b[31mERROR: No matching distribution found for tparquet\u001b[0m\n"
          ],
          "name": "stdout"
        }
      ]
    },
    {
      "cell_type": "code",
      "metadata": {
        "id": "LB6bpKFrczWC"
      },
      "source": [
        "import pandas as pd\n",
        "from fastparquet import write\n",
        "# 댓글 크롤링 데이터 불러옴\n",
        "df=pd.read_parquet('all_comment_id.parquet',engine='fastparquet')"
      ],
      "execution_count": 2,
      "outputs": []
    },
    {
      "cell_type": "code",
      "metadata": {
        "colab": {
          "base_uri": "https://localhost:8080/"
        },
        "id": "-9a_Yk7UedAb",
        "outputId": "efb87f22-4684-4a02-9cf1-9cc8db60cb9a"
      },
      "source": [
        "# 댓글 아이디 별로 분류, 웹툰 댓글 단 개수 값 넣어서\n",
        "df = df.groupby(['아이디','제목']).size().reset_index(name='count')\n",
        "df = df.pivot('아이디', '제목', 'count').fillna(0) \n",
        "print(df)\n",
        "df.to_parquet('trying.parquet', compression='gzip')"
      ],
      "execution_count": 3,
      "outputs": [
        {
          "output_type": "stream",
          "text": [
            "제목             0.0MHz  0.1초의 설렘  100%의 그녀  ...  히트포인트  힘내요 일본!-[릴레이웹툰]  힙한남자\n",
            "아이디                                        ...                              \n",
            "       불렉션        0.0       0.0       0.0  ...    0.0              0.0   0.0\n",
            "       찐          0.0       0.0       0.0  ...    0.0              0.0   0.0\n",
            " Lr매ㄱr고ㅍr         0.0       0.0       0.0  ...    0.0              0.0   0.0\n",
            " chahy            0.0       0.0       0.0  ...    0.0              0.0   0.0\n",
            " 곰지123            0.0       0.0       0.0  ...    0.0              0.0   0.0\n",
            "...               ...       ...       ...  ...    ...              ...   ...\n",
            "＊ㄴδㅁξ - - ª..     0.0       0.0       0.0  ...    0.0              0.0   0.0\n",
            "＊오가＊              0.0       0.0       0.0  ...    0.0              0.0   0.0\n",
            "＊좋은생각＊            0.0       0.0       0.0  ...    0.0              0.0   0.0\n",
            "￡0ⓥe ⓘs...        0.0       0.0       0.0  ...    0.0              0.0   0.0\n",
            "￡ΟνΕ　 Ιε 。。♡      0.0       0.0       0.0  ...    0.0              0.0   0.0\n",
            "\n",
            "[245447 rows x 1823 columns]\n"
          ],
          "name": "stdout"
        }
      ]
    },
    {
      "cell_type": "code",
      "metadata": {
        "id": "Owgsae640jGT"
      },
      "source": [
        "# 비슷한 사용자 k 명 찾기\n",
        "from sklearn.metrics.pairwise import cosine_similarity\n",
        "import operator\n",
        "\n",
        "def similar_users(user_id, matrix, k=5):\n",
        "    # 입력받은 사용자 데이터 프레임 생성\n",
        "    user = matrix[matrix.index == user_id]\n",
        "    \n",
        "    # 입력받은 사용자 제외 다른 사용자의 데이터 프레임 생성\n",
        "    other_users = matrix[matrix.index != user_id]\n",
        "    \n",
        "    # 입력받은 사용자와 다른 사용자간의 코사인 유사도 측정\n",
        "    similarities = cosine_similarity(user,other_users)[0].tolist()\n",
        "    \n",
        "    # 사용자 인덱스의 리스트 생성\n",
        "    indices = other_users.index.tolist()\n",
        "    \n",
        "    # 사용자 인덱스와 유사도를 key,value값으로 딕셔너리 생성\n",
        "    index_similarity = dict(zip(indices, similarities))\n",
        "    \n",
        "    # 유사도로 소팅\n",
        "    index_similarity_sorted = sorted(index_similarity.items(), key=operator.itemgetter(1))\n",
        "    index_similarity_sorted.reverse()\n",
        "    \n",
        "    # 유사한 k명의 top 사용자 생성\n",
        "    top_users_similarities = index_similarity_sorted[:k]\n",
        "    users = [u[0] for u in top_users_similarities]\n",
        "    \n",
        "    return users\n",
        "    \n"
      ],
      "execution_count": 4,
      "outputs": []
    },
    {
      "cell_type": "code",
      "metadata": {
        "id": "fLMec6lQiZwW"
      },
      "source": [
        "#비슷한 사용자들 평균내서, 추천 웹툰 목록 만듬\n",
        "def recommend_item(user_index, similar_user_indices, matrix):\n",
        "    \n",
        "    # 유사 사용자의 벡터 생성\n",
        "    similar_users = matrix[matrix.index.isin(similar_user_indices)]\n",
        "    # 5명의 유사 사용자의 평균 댓글 횟수 계산\n",
        "    similar_users = similar_users.mean(axis=0)\n",
        "    # 소팅과 필터링을 용이하게 하기 위한 데이터프레임 변환\n",
        "    similar_users_df = pd.DataFrame(similar_users, columns=['mean'])\n",
        "    \n",
        "    # 현재 사용자의 벡터 생성\n",
        "    user_df = matrix[matrix.index == user_index]\n",
        "    # 필터링을 쉽게 하기 위해 transpose\n",
        "    user_df_transposed = user_df.transpose()\n",
        "    # rating column으로 이름 변경\n",
        "    user_df_transposed.columns = ['rating']\n",
        "    # 본 웹툰을 제외한 나머지 웹툰을 이용하여 데이터프레임 생성\n",
        "    user_df_transposed = user_df_transposed[user_df_transposed['rating']==0]\n",
        "    # 보지 않은 웹툰 리스트생성\n",
        "    webtoon_unseen = user_df_transposed.index.tolist()\n",
        "    \n",
        "    # 현재 사용자가 보지 않은 웹툰 많을 이용하여 비슷한 사용자의 댓글 횟수 평균을 필터링\n",
        "    similar_users_df_filtered = similar_users_df[similar_users_df.index.isin(webtoon_unseen)]\n",
        "    # 데이터 프레임 내림차순으로 소팅\n",
        "    similar_users_df_ordered = similar_users_df_filtered.sort_values(by=['mean'], ascending=False)\n",
        "    print(similar_users_df_ordered)\n",
        "    \n",
        "    return similar_users_df_ordered #items\n",
        "\n"
      ],
      "execution_count": 5,
      "outputs": []
    },
    {
      "cell_type": "code",
      "metadata": {
        "id": "L3noT1v3x_22",
        "colab": {
          "base_uri": "https://localhost:8080/"
        },
        "outputId": "c82c4d6a-f554-439a-da61-a8eda34dea79"
      },
      "source": [
        "\n",
        "# 사용자가 최근 본 웹툰 3개 여기에 입력\n",
        "user_webtoon_input=['유미의 세포들','삼국지툰','놓정동화']\n",
        "\n",
        "# 파일 읽기  \n",
        "df=pd.read_parquet('trying.parquet',engine='fastparquet')\n",
        "# 전체 데이터 프레임에 최근 본 웹툰 3개의 가중치값을 1로 두어 행을 추가\n",
        "df.loc['user_input']={user_webtoon_input[0]:1,user_webtoon_input[1]:1,user_webtoon_input[2]:1}\n",
        "df=df.fillna(0)\n",
        "\n",
        "# 유사 사용자 받아옴    \n",
        "current_user = \"user_input\"\n",
        "similar_user_indices = similar_users(current_user, df)\n",
        "print(similar_user_indices)    "
      ],
      "execution_count": 11,
      "outputs": [
        {
          "output_type": "stream",
          "text": [
            "['huj9****', 'kne4****', 'kysb****', 'yeps****', 'nnno****']\n"
          ],
          "name": "stdout"
        }
      ]
    },
    {
      "cell_type": "code",
      "metadata": {
        "id": "9TgANpKKx_22",
        "colab": {
          "base_uri": "https://localhost:8080/"
        },
        "outputId": "070b33e4-522d-4701-902e-5e7a3c3bfe3d"
      },
      "source": [
        "# 추천 리스트 생성\n",
        "recommend_list  = recommend_item(current_user, similar_user_indices, df)\n",
        "print(recommend_list)"
      ],
      "execution_count": 12,
      "outputs": [
        {
          "output_type": "stream",
          "text": [
            "               mean\n",
            "제목                 \n",
            "남기한엘리트만들기       0.4\n",
            "여성전용헬스장 진달래짐    0.2\n",
            "노블레스            0.2\n",
            "오늘도 핸드메이드!      0.2\n",
            "오늘은 꼭 고백할 거야!   0.0\n",
            "...             ...\n",
            "마야비             0.0\n",
            "마애(磨崖)          0.0\n",
            "마스크걸            0.0\n",
            "마술사             0.0\n",
            "힙한남자            0.0\n",
            "\n",
            "[1821 rows x 1 columns]\n",
            "               mean\n",
            "제목                 \n",
            "남기한엘리트만들기       0.4\n",
            "여성전용헬스장 진달래짐    0.2\n",
            "노블레스            0.2\n",
            "오늘도 핸드메이드!      0.2\n",
            "오늘은 꼭 고백할 거야!   0.0\n",
            "...             ...\n",
            "마야비             0.0\n",
            "마애(磨崖)          0.0\n",
            "마스크걸            0.0\n",
            "마술사             0.0\n",
            "힙한남자            0.0\n",
            "\n",
            "[1821 rows x 1 columns]\n"
          ],
          "name": "stdout"
        }
      ]
    },
    {
      "cell_type": "code",
      "metadata": {
        "id": "J4E_KVeix_23",
        "colab": {
          "base_uri": "https://localhost:8080/",
          "height": 390
        },
        "outputId": "29d3f70b-9233-4cf0-bc40-a1563310f125"
      },
      "source": [
        "recommend_list.head(10)"
      ],
      "execution_count": 13,
      "outputs": [
        {
          "output_type": "execute_result",
          "data": {
            "text/html": [
              "<div>\n",
              "<style scoped>\n",
              "    .dataframe tbody tr th:only-of-type {\n",
              "        vertical-align: middle;\n",
              "    }\n",
              "\n",
              "    .dataframe tbody tr th {\n",
              "        vertical-align: top;\n",
              "    }\n",
              "\n",
              "    .dataframe thead th {\n",
              "        text-align: right;\n",
              "    }\n",
              "</style>\n",
              "<table border=\"1\" class=\"dataframe\">\n",
              "  <thead>\n",
              "    <tr style=\"text-align: right;\">\n",
              "      <th></th>\n",
              "      <th>mean</th>\n",
              "    </tr>\n",
              "    <tr>\n",
              "      <th>제목</th>\n",
              "      <th></th>\n",
              "    </tr>\n",
              "  </thead>\n",
              "  <tbody>\n",
              "    <tr>\n",
              "      <th>남기한엘리트만들기</th>\n",
              "      <td>0.4</td>\n",
              "    </tr>\n",
              "    <tr>\n",
              "      <th>여성전용헬스장 진달래짐</th>\n",
              "      <td>0.2</td>\n",
              "    </tr>\n",
              "    <tr>\n",
              "      <th>노블레스</th>\n",
              "      <td>0.2</td>\n",
              "    </tr>\n",
              "    <tr>\n",
              "      <th>오늘도 핸드메이드!</th>\n",
              "      <td>0.2</td>\n",
              "    </tr>\n",
              "    <tr>\n",
              "      <th>오늘은 꼭 고백할 거야!</th>\n",
              "      <td>0.0</td>\n",
              "    </tr>\n",
              "    <tr>\n",
              "      <th>오리지널 씬2</th>\n",
              "      <td>0.0</td>\n",
              "    </tr>\n",
              "    <tr>\n",
              "      <th>오리우리</th>\n",
              "      <td>0.0</td>\n",
              "    </tr>\n",
              "    <tr>\n",
              "      <th>오른눈이 보는 세계</th>\n",
              "      <td>0.0</td>\n",
              "    </tr>\n",
              "    <tr>\n",
              "      <th>오로지 너를 이기고 싶어</th>\n",
              "      <td>0.0</td>\n",
              "    </tr>\n",
              "    <tr>\n",
              "      <th>오랑캐</th>\n",
              "      <td>0.0</td>\n",
              "    </tr>\n",
              "  </tbody>\n",
              "</table>\n",
              "</div>"
            ],
            "text/plain": [
              "               mean\n",
              "제목                 \n",
              "남기한엘리트만들기       0.4\n",
              "여성전용헬스장 진달래짐    0.2\n",
              "노블레스            0.2\n",
              "오늘도 핸드메이드!      0.2\n",
              "오늘은 꼭 고백할 거야!   0.0\n",
              "오리지널 씬2         0.0\n",
              "오리우리            0.0\n",
              "오른눈이 보는 세계      0.0\n",
              "오로지 너를 이기고 싶어   0.0\n",
              "오랑캐             0.0"
            ]
          },
          "metadata": {
            "tags": []
          },
          "execution_count": 13
        }
      ]
    },
    {
      "cell_type": "code",
      "metadata": {
        "id": "fsFCIB_Ix_25"
      },
      "source": [
        ""
      ],
      "execution_count": null,
      "outputs": []
    }
  ]
}