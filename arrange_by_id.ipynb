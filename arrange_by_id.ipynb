{
 "cells": [
  {
   "cell_type": "code",
   "execution_count": 19,
   "metadata": {},
   "outputs": [],
   "source": [
    "import pandas as pd\n",
    "from fastparquet import write\n",
    "df=pd.read_parquet('comment_id.parquet',engine='fastparquet')"
   ]
  },
  {
   "cell_type": "code",
   "execution_count": 20,
   "metadata": {},
   "outputs": [
    {
     "name": "stdout",
     "output_type": "stream",
     "text": [
      "3046741\n",
      "246412\n",
      "         제목       아이디\n",
      "0      인생존망  fkqp****\n",
      "1      인생존망  kjh2****\n",
      "2      인생존망  mmoa****\n",
      "3      인생존망  ycg0****\n",
      "4      인생존망  dbgp****\n",
      "...     ...       ...\n",
      "48818  순정만화  zezeㅋㄷㅋㄷ\n",
      "48819  순정만화       8차원\n",
      "48820  순정만화       신수진\n",
      "48821  순정만화       서헤빗\n",
      "48822  순정만화      가을하늘\n",
      "\n",
      "[3046741 rows x 2 columns]\n"
     ]
    }
   ],
   "source": [
    "print(len(df))\n",
    "print(len(df['아이디'].unique()))\n",
    "print(df)"
   ]
  },
  {
   "cell_type": "code",
   "execution_count": 21,
   "metadata": {},
   "outputs": [
    {
     "name": "stdout",
     "output_type": "stream",
     "text": [
      "         제목       아이디  횟수\n",
      "0      인생존망  fkqp****   1\n",
      "1      인생존망  kjh2****   1\n",
      "2      인생존망  mmoa****   1\n",
      "3      인생존망  ycg0****   1\n",
      "4      인생존망  dbgp****   1\n",
      "...     ...       ...  ..\n",
      "48818  순정만화  zezeㅋㄷㅋㄷ   1\n",
      "48819  순정만화       8차원   1\n",
      "48820  순정만화       신수진   1\n",
      "48821  순정만화       서헤빗   1\n",
      "48822  순정만화      가을하늘   1\n",
      "\n",
      "[3046741 rows x 3 columns]\n"
     ]
    }
   ],
   "source": [
    "# using apply function to create a new column \n",
    "df['횟수'] = df.apply(lambda row: 1, axis = 1) \n",
    "  \n",
    "# Print the DataFrame after addition \n",
    "# of new column \n",
    "print(df) "
   ]
  },
  {
   "cell_type": "code",
   "execution_count": 27,
   "metadata": {},
   "outputs": [
    {
     "name": "stdout",
     "output_type": "stream",
     "text": [
      "         아이디          제목  count\n",
      "23         -   11년 후 우리는      2\n",
      "26         -        CCTV      2\n",
      "27         -      Dr.브레인      2\n",
      "28         -        GONE      2\n",
      "32         -  가내수공업 Ent.      2\n",
      "...      ...         ...    ...\n",
      "1699880   히스        파륜아이      2\n",
      "1699890  히에이        코알랄라      2\n",
      "1699896   히피         제비전      2\n",
      "1699931  힘들어        까야제맛      2\n",
      "1699935  힙합걸         에비츄      2\n",
      "\n",
      "[264432 rows x 3 columns]\n",
      "                   아이디              제목  count\n",
      "0                  불렉션            실버볼1      1\n",
      "1                    찐            이장본색      1\n",
      "2             Lr매ㄱr고ㅍr        반짝반짝 컬링부      1\n",
      "3                chahy         검둥이 이야기      1\n",
      "4                곰지123  커피와 하루 ternate      1\n",
      "...                ...             ...    ...\n",
      "1699940  ＊ㄴδㅁξ - - ª..        황야의 무법자들      1\n",
      "1699941           ＊오가＊            혼담별곡      1\n",
      "1699942         ＊좋은생각＊     당신과 당신의 도서관      1\n",
      "1699943     ￡0ⓥe ⓘs...              할매      1\n",
      "1699944   ￡ΟνΕ　 Ιε 。。♡          트레져헌터2      1\n",
      "\n",
      "[1699945 rows x 3 columns]\n"
     ]
    }
   ],
   "source": [
    "#아이디, 웹툰 별로 그루핑 \n",
    "#같은 웹툰에 댓글 여러번 단 거 정리 \n",
    "#댓글수가 3046741 -> 1699935개 된거 보면 한 명당 웹툰에 거의 댓글 두개씩 단듯\n",
    "df = df.groupby(['아이디','제목']).size().reset_index(name='count')\n",
    "print(df.loc[df['count']==2])\n",
    "print(df)"
   ]
  },
  {
   "cell_type": "code",
   "execution_count": 30,
   "metadata": {},
   "outputs": [
    {
     "name": "stdout",
     "output_type": "stream",
     "text": [
      "제목             0.0MHz  0.1초의 설렘  100%의 그녀  11년 후 우리는  12단곡괭이  12월   12차원 소년들  \\\n",
      "아이디                                                                            \n",
      "       불렉션        NaN       NaN       NaN        NaN     NaN   NaN       NaN   \n",
      "       찐          NaN       NaN       NaN        NaN     NaN   NaN       NaN   \n",
      " Lr매ㄱr고ㅍr         NaN       NaN       NaN        NaN     NaN   NaN       NaN   \n",
      " chahy            NaN       NaN       NaN        NaN     NaN   NaN       NaN   \n",
      " 곰지123            NaN       NaN       NaN        NaN     NaN   NaN       NaN   \n",
      "...               ...       ...       ...        ...     ...   ...       ...   \n",
      "＊ㄴδㅁξ - - ª..     NaN       NaN       NaN        NaN     NaN   NaN       NaN   \n",
      "＊오가＊              NaN       NaN       NaN        NaN     NaN   NaN       NaN   \n",
      "＊좋은생각＊            NaN       NaN       NaN        NaN     NaN   NaN       NaN   \n",
      "￡0ⓥe ⓘs...        NaN       NaN       NaN        NaN     NaN   NaN       NaN   \n",
      "￡ΟνΕ　 Ιε 。。♡      NaN       NaN       NaN        NaN     NaN   NaN       NaN   \n",
      "\n",
      "제목             180cm 그녀를 사랑해!  19년 뽀삐  19세기말 비망록  ...  휴니멀  흑룡연인  흑우  \\\n",
      "아이디                                               ...                  \n",
      "       불렉션                NaN     NaN        NaN  ...  NaN   NaN NaN   \n",
      "       찐                  NaN     NaN        NaN  ...  NaN   NaN NaN   \n",
      " Lr매ㄱr고ㅍr                 NaN     NaN        NaN  ...  NaN   NaN NaN   \n",
      " chahy                    NaN     NaN        NaN  ...  NaN   NaN NaN   \n",
      " 곰지123                    NaN     NaN        NaN  ...  NaN   NaN NaN   \n",
      "...                       ...     ...        ...  ...  ...   ...  ..   \n",
      "＊ㄴδㅁξ - - ª..             NaN     NaN        NaN  ...  NaN   NaN NaN   \n",
      "＊오가＊                      NaN     NaN        NaN  ...  NaN   NaN NaN   \n",
      "＊좋은생각＊                    NaN     NaN        NaN  ...  NaN   NaN NaN   \n",
      "￡0ⓥe ⓘs...                NaN     NaN        NaN  ...  NaN   NaN NaN   \n",
      "￡ΟνΕ　 Ιε 。。♡              NaN     NaN        NaN  ...  NaN   NaN NaN   \n",
      "\n",
      "제목             흔한 환생녀의 사정  흩날리는  흰둥이  히어로메이커  히어로즈 오브 레전드  힘내요 일본!...  힙한남자  \n",
      "아이디                                                                          \n",
      "       불렉션            NaN   NaN  NaN     NaN          NaN         NaN   NaN  \n",
      "       찐              NaN   NaN  NaN     NaN          NaN         NaN   NaN  \n",
      " Lr매ㄱr고ㅍr             NaN   NaN  NaN     NaN          NaN         NaN   NaN  \n",
      " chahy                NaN   NaN  NaN     NaN          NaN         NaN   NaN  \n",
      " 곰지123                NaN   NaN  NaN     NaN          NaN         NaN   NaN  \n",
      "...                   ...   ...  ...     ...          ...         ...   ...  \n",
      "＊ㄴδㅁξ - - ª..         NaN   NaN  NaN     NaN          NaN         NaN   NaN  \n",
      "＊오가＊                  NaN   NaN  NaN     NaN          NaN         NaN   NaN  \n",
      "＊좋은생각＊                NaN   NaN  NaN     NaN          NaN         NaN   NaN  \n",
      "￡0ⓥe ⓘs...            NaN   NaN  NaN     NaN          NaN         NaN   NaN  \n",
      "￡ΟνΕ　 Ιε 。。♡          NaN   NaN  NaN     NaN          NaN         NaN   NaN  \n",
      "\n",
      "[246412 rows x 1822 columns]\n"
     ]
    }
   ],
   "source": [
    "a = df.pivot('아이디', '제목', 'count')\n",
    "print(a)"
   ]
  },
  {
   "cell_type": "code",
   "execution_count": 26,
   "metadata": {},
   "outputs": [
    {
     "data": {
      "text/html": [
       "<div>\n",
       "<style scoped>\n",
       "    .dataframe tbody tr th:only-of-type {\n",
       "        vertical-align: middle;\n",
       "    }\n",
       "\n",
       "    .dataframe tbody tr th {\n",
       "        vertical-align: top;\n",
       "    }\n",
       "\n",
       "    .dataframe thead th {\n",
       "        text-align: right;\n",
       "    }\n",
       "</style>\n",
       "<table border=\"1\" class=\"dataframe\">\n",
       "  <thead>\n",
       "    <tr style=\"text-align: right;\">\n",
       "      <th></th>\n",
       "      <th>아이디</th>\n",
       "      <th>제목</th>\n",
       "      <th>count</th>\n",
       "    </tr>\n",
       "  </thead>\n",
       "  <tbody>\n",
       "    <tr>\n",
       "      <th>23</th>\n",
       "      <td>-</td>\n",
       "      <td>11년 후 우리는</td>\n",
       "      <td>2</td>\n",
       "    </tr>\n",
       "    <tr>\n",
       "      <th>26</th>\n",
       "      <td>-</td>\n",
       "      <td>CCTV</td>\n",
       "      <td>2</td>\n",
       "    </tr>\n",
       "    <tr>\n",
       "      <th>27</th>\n",
       "      <td>-</td>\n",
       "      <td>Dr.브레인</td>\n",
       "      <td>2</td>\n",
       "    </tr>\n",
       "    <tr>\n",
       "      <th>28</th>\n",
       "      <td>-</td>\n",
       "      <td>GONE</td>\n",
       "      <td>2</td>\n",
       "    </tr>\n",
       "    <tr>\n",
       "      <th>32</th>\n",
       "      <td>-</td>\n",
       "      <td>가내수공업 Ent.</td>\n",
       "      <td>2</td>\n",
       "    </tr>\n",
       "    <tr>\n",
       "      <th>...</th>\n",
       "      <td>...</td>\n",
       "      <td>...</td>\n",
       "      <td>...</td>\n",
       "    </tr>\n",
       "    <tr>\n",
       "      <th>1699880</th>\n",
       "      <td>히스</td>\n",
       "      <td>파륜아이</td>\n",
       "      <td>2</td>\n",
       "    </tr>\n",
       "    <tr>\n",
       "      <th>1699890</th>\n",
       "      <td>히에이</td>\n",
       "      <td>코알랄라</td>\n",
       "      <td>2</td>\n",
       "    </tr>\n",
       "    <tr>\n",
       "      <th>1699896</th>\n",
       "      <td>히피</td>\n",
       "      <td>제비전</td>\n",
       "      <td>2</td>\n",
       "    </tr>\n",
       "    <tr>\n",
       "      <th>1699931</th>\n",
       "      <td>힘들어</td>\n",
       "      <td>까야제맛</td>\n",
       "      <td>2</td>\n",
       "    </tr>\n",
       "    <tr>\n",
       "      <th>1699935</th>\n",
       "      <td>힙합걸</td>\n",
       "      <td>에비츄</td>\n",
       "      <td>2</td>\n",
       "    </tr>\n",
       "  </tbody>\n",
       "</table>\n",
       "<p>264432 rows × 3 columns</p>\n",
       "</div>"
      ],
      "text/plain": [
       "         아이디          제목  count\n",
       "23         -   11년 후 우리는      2\n",
       "26         -        CCTV      2\n",
       "27         -      Dr.브레인      2\n",
       "28         -        GONE      2\n",
       "32         -  가내수공업 Ent.      2\n",
       "...      ...         ...    ...\n",
       "1699880   히스        파륜아이      2\n",
       "1699890  히에이        코알랄라      2\n",
       "1699896   히피         제비전      2\n",
       "1699931  힘들어        까야제맛      2\n",
       "1699935  힙합걸         에비츄      2\n",
       "\n",
       "[264432 rows x 3 columns]"
      ]
     },
     "execution_count": 26,
     "metadata": {},
     "output_type": "execute_result"
    }
   ],
   "source": [
    "tr.loc[tr['count']==2]"
   ]
  },
  {
   "cell_type": "code",
   "execution_count": null,
   "metadata": {},
   "outputs": [],
   "source": []
  }
 ],
 "metadata": {
  "kernelspec": {
   "display_name": "Python 3",
   "language": "python",
   "name": "python3"
  },
  "language_info": {
   "codemirror_mode": {
    "name": "ipython",
    "version": 3
   },
   "file_extension": ".py",
   "mimetype": "text/x-python",
   "name": "python",
   "nbconvert_exporter": "python",
   "pygments_lexer": "ipython3",
   "version": "3.7.3"
  }
 },
 "nbformat": 4,
 "nbformat_minor": 4
}
