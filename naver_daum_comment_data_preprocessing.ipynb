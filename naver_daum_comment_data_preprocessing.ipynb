{
  "nbformat": 4,
  "nbformat_minor": 0,
  "metadata": {
    "colab": {
      "name": "naver_daum_comment_data_preprocessing.ipynb",
      "provenance": []
    },
    "kernelspec": {
      "name": "python3",
      "display_name": "Python 3"
    }
  },
  "cells": [
    {
      "cell_type": "code",
      "metadata": {
        "colab": {
          "base_uri": "https://localhost:8080/"
        },
        "id": "uoVLwWwmoRmk",
        "outputId": "cc114928-6c58-4181-a837-d31b81e70fc8"
      },
      "source": [
        "import pandas as pd\n",
        "from fastparquet import write\n",
        "\n",
        "# 네이버 에피소드 데이터 읽어오기\n",
        "df_episode=pd.read_parquet('naver_webtoon_comment_episode.parquet',engine='fastparquet')\n",
        "del df_episode['에피소드화']\n",
        "\n",
        "# 네이버 옴니버스 데이터 읽어오기\n",
        "df_omnibus=pd.read_parquet('naver_webtoon_comment_omnibus.parquet',engine='fastparquet')\n",
        "del df_omnibus['에피소드화']\n",
        "\n",
        "# 네이버 스토리 데이터 읽어오기\n",
        "df_story=pd.read_parquet('naver_webtoon_comment_story400.parquet',engine='fastparquet')\n",
        "\n",
        "# 다음 전체 데이터 읽어오기 \n",
        "df_daum=pd.read_parquet('daum_webtoon_comments.parquet',engine='fastparquet')\n",
        "\n",
        "# 네이버 데이터와 형태 같도록 수정\n",
        "colHeader=['제목','아이디']\n",
        "df_daum_trim=pd.DataFrame(columns=colHeader)\n",
        "df_daum_title=df_daum['title'].to_list()[0]\n",
        "df_daum_id=df_daum['id'].to_list()[0]\n",
        "\n",
        "for num in range(len(df_daum_title)):\n",
        "  data={}\n",
        "  data['제목']=df_daum_title[num]\n",
        "  data['아이디']=df_daum_id[num]\n",
        "  df_daum_trim.loc[len(df_daum_trim)]=data\n",
        "\n",
        "print(df_daum_trim)\n",
        "\n",
        "\n",
        "\n",
        "\n"
      ],
      "execution_count": 59,
      "outputs": [
        {
          "output_type": "stream",
          "text": [
            "              제목          아이디\n",
            "0      무지개다리 파수꾼         살랑살랑\n",
            "1      무지개다리 파수꾼         CIEL\n",
            "2      무지개다리 파수꾼         곰개발씨\n",
            "3      무지개다리 파수꾼  썩어빠진문재앙의일당들\n",
            "4      무지개다리 파수꾼  썩어빠진문재앙의일당들\n",
            "...          ...          ...\n",
            "48818       순정만화     zezeㅋㄷㅋㄷ\n",
            "48819       순정만화          8차원\n",
            "48820       순정만화          신수진\n",
            "48821       순정만화          서헤빗\n",
            "48822       순정만화         가을하늘\n",
            "\n",
            "[48823 rows x 2 columns]\n"
          ],
          "name": "stdout"
        }
      ]
    },
    {
      "cell_type": "code",
      "metadata": {
        "colab": {
          "base_uri": "https://localhost:8080/"
        },
        "id": "c6jEM7bp4U09",
        "outputId": "860ba616-d0dc-4a86-be34-b1e9d8775ced"
      },
      "source": [
        "#데이터 합치기\n",
        "df=pd.concat([df_episode,df_omnibus,df_story,df_daum_trim])\n",
        "print(df)\n",
        "df.to_parquet(\"comment_id.parquet\",compression='gzip')"
      ],
      "execution_count": 64,
      "outputs": [
        {
          "output_type": "stream",
          "text": [
            "         제목       아이디\n",
            "0      인생존망  fkqp****\n",
            "1      인생존망  kjh2****\n",
            "2      인생존망  mmoa****\n",
            "3      인생존망  ycg0****\n",
            "4      인생존망  dbgp****\n",
            "...     ...       ...\n",
            "48818  순정만화  zezeㅋㄷㅋㄷ\n",
            "48819  순정만화       8차원\n",
            "48820  순정만화       신수진\n",
            "48821  순정만화       서헤빗\n",
            "48822  순정만화      가을하늘\n",
            "\n",
            "[3046741 rows x 2 columns]\n"
          ],
          "name": "stdout"
        }
      ]
    }
  ]
}