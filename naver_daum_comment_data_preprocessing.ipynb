{
  "nbformat": 4,
  "nbformat_minor": 0,
  "metadata": {
    "colab": {
      "name": "naver_daum_comment_data_preprocessing.ipynb",
      "provenance": [],
      "collapsed_sections": []
    },
    "kernelspec": {
      "name": "python3",
      "display_name": "Python 3"
    }
  },
  "cells": [
    {
      "cell_type": "code",
      "metadata": {
        "colab": {
          "base_uri": "https://localhost:8080/"
        },
        "id": "zudEoR4UR39A",
        "outputId": "739d057c-50ee-4200-ee81-6dc951d8b1bc"
      },
      "source": [
        "pip install fastparquet"
      ],
      "execution_count": 1,
      "outputs": [
        {
          "output_type": "stream",
          "text": [
            "Collecting fastparquet\n",
            "\u001b[?25l  Downloading https://files.pythonhosted.org/packages/28/b9/844e32d0e3739e5695057dff3a3b9f4abc0fcccff466fdaadb8fedb0ee1d/fastparquet-0.4.1.tar.gz (28.6MB)\n",
            "\u001b[K     |████████████████████████████████| 28.6MB 146kB/s \n",
            "\u001b[?25hRequirement already satisfied: pandas>=0.19 in /usr/local/lib/python3.6/dist-packages (from fastparquet) (1.1.5)\n",
            "Requirement already satisfied: numba>=0.28 in /usr/local/lib/python3.6/dist-packages (from fastparquet) (0.48.0)\n",
            "Requirement already satisfied: numpy>=1.11 in /usr/local/lib/python3.6/dist-packages (from fastparquet) (1.18.5)\n",
            "Requirement already satisfied: packaging in /usr/local/lib/python3.6/dist-packages (from fastparquet) (20.7)\n",
            "Collecting thrift>=0.11.0\n",
            "\u001b[?25l  Downloading https://files.pythonhosted.org/packages/97/1e/3284d19d7be99305eda145b8aa46b0c33244e4a496ec66440dac19f8274d/thrift-0.13.0.tar.gz (59kB)\n",
            "\u001b[K     |████████████████████████████████| 61kB 7.6MB/s \n",
            "\u001b[?25hRequirement already satisfied: six in /usr/local/lib/python3.6/dist-packages (from fastparquet) (1.15.0)\n",
            "Requirement already satisfied: python-dateutil>=2.7.3 in /usr/local/lib/python3.6/dist-packages (from pandas>=0.19->fastparquet) (2.8.1)\n",
            "Requirement already satisfied: pytz>=2017.2 in /usr/local/lib/python3.6/dist-packages (from pandas>=0.19->fastparquet) (2018.9)\n",
            "Requirement already satisfied: llvmlite<0.32.0,>=0.31.0dev0 in /usr/local/lib/python3.6/dist-packages (from numba>=0.28->fastparquet) (0.31.0)\n",
            "Requirement already satisfied: setuptools in /usr/local/lib/python3.6/dist-packages (from numba>=0.28->fastparquet) (50.3.2)\n",
            "Requirement already satisfied: pyparsing>=2.0.2 in /usr/local/lib/python3.6/dist-packages (from packaging->fastparquet) (2.4.7)\n",
            "Building wheels for collected packages: fastparquet, thrift\n",
            "  Building wheel for fastparquet (setup.py) ... \u001b[?25l\u001b[?25hdone\n",
            "  Created wheel for fastparquet: filename=fastparquet-0.4.1-cp36-cp36m-linux_x86_64.whl size=7125483 sha256=9b69ae720030c32453d3326ff84aef6a0ae983cb5c94870188574c512e9e1e9c\n",
            "  Stored in directory: /root/.cache/pip/wheels/10/45/cf/492ccb908adde1dd2551bb509a56e4096cce9487167f525120\n",
            "  Building wheel for thrift (setup.py) ... \u001b[?25l\u001b[?25hdone\n",
            "  Created wheel for thrift: filename=thrift-0.13.0-cp36-cp36m-linux_x86_64.whl size=345221 sha256=a07b82aebf916cc7eebe5aa929ff69ec69a487fcdf29dcfb5c9855afd76f8544\n",
            "  Stored in directory: /root/.cache/pip/wheels/02/a2/46/689ccfcf40155c23edc7cdbd9de488611c8fdf49ff34b1706e\n",
            "Successfully built fastparquet thrift\n",
            "Installing collected packages: thrift, fastparquet\n",
            "Successfully installed fastparquet-0.4.1 thrift-0.13.0\n"
          ],
          "name": "stdout"
        }
      ]
    },
    {
      "cell_type": "code",
      "metadata": {
        "colab": {
          "base_uri": "https://localhost:8080/"
        },
        "id": "uoVLwWwmoRmk",
        "outputId": "117c5087-de76-40db-dff8-6fe4ebdac8ee"
      },
      "source": [
        "import pandas as pd\n",
        "from fastparquet import write\n",
        "\n",
        "# 네이버 에피소드 데이터 읽어오기\n",
        "df_episode=pd.read_parquet('naver_webtoon_comment_episode_final.parquet',engine='fastparquet')\n",
        "print(df_episode)\n",
        "\n",
        "# 네이버 옴니버스 데이터 읽어오기\n",
        "df_omnibus=pd.read_parquet('naver_webtoon_comment_omnibus_final.parquet',engine='fastparquet')\n",
        "print(df_omnibus)\n",
        "\n",
        "# 네이버 스토리 데이터 읽어오기\n",
        "df_story=pd.read_parquet('naver_webtoon_comment_story400.parquet',engine='fastparquet')\n",
        "print(df_story)\n",
        "\n",
        "# 다음 전체 데이터 읽어오기 \n",
        "df_daum=pd.read_parquet('daum_webtoon_comments_last2epi_only_id.parquet',engine='fastparquet')\n",
        "print(df_daum)\n",
        "\n",
        "# 네이버 데이터와 형태 같도록 수정\n",
        "colHeader=['제목','아이디']\n",
        "df_daum_trim=pd.DataFrame(columns=colHeader)\n",
        "df_daum_title=df_daum['title'].to_list()[0]\n",
        "df_daum_id=df_daum['id'].to_list()[0]\n",
        "\n",
        "for num in range(len(df_daum_title)):\n",
        "  data={}\n",
        "  data['제목']=df_daum_title[num]\n",
        "  data['아이디']=df_daum_id[num]\n",
        "  df_daum_trim.loc[len(df_daum_trim)]=data\n",
        "\n",
        "print(df_daum_trim)\n",
        "\n",
        "\n",
        "\n",
        "\n"
      ],
      "execution_count": 4,
      "outputs": [
        {
          "output_type": "stream",
          "text": [
            "           제목       아이디\n",
            "0        인생존망  fkqp****\n",
            "1        인생존망  kjh2****\n",
            "2        인생존망  mmoa****\n",
            "3        인생존망  ycg0****\n",
            "4        인생존망  dbgp****\n",
            "...       ...       ...\n",
            "1103504  징글정글  gusr****\n",
            "1103505  징글정글  harr****\n",
            "1103506  징글정글  ekah****\n",
            "1103507  징글정글  wkqt****\n",
            "1103508  징글정글  akzm****\n",
            "\n",
            "[1103509 rows x 2 columns]\n",
            "            제목       아이디\n",
            "0         기기괴괴  shk7****\n",
            "1         기기괴괴  kjs2****\n",
            "2         기기괴괴  king****\n",
            "3         기기괴괴  syhf****\n",
            "4         기기괴괴  yunj****\n",
            "...        ...       ...\n",
            "741120  국가의 탄생  bjh2****\n",
            "741121  국가의 탄생  sgmb****\n",
            "741122  국가의 탄생  ctae****\n",
            "741123  국가의 탄생  ckd5****\n",
            "741124  국가의 탄생  chlr****\n",
            "\n",
            "[741125 rows x 2 columns]\n",
            "           제목       아이디\n",
            "index                  \n",
            "0        여신강림  sara****\n",
            "1        여신강림  sara****\n",
            "2        여신강림  hele****\n",
            "3        여신강림  suye****\n",
            "4        여신강림  jesu****\n",
            "...       ...       ...\n",
            "1118206    신령  s00n****\n",
            "1118207    신령  gkgk****\n",
            "1118208    신령  wlsd****\n",
            "1118209    신령  hrab****\n",
            "1118210    신령  hon7****\n",
            "\n",
            "[1118211 rows x 2 columns]\n",
            "                                                   title                                                 id\n",
            "index                                                                                                      \n",
            "0      [무지개다리 파수꾼, 무지개다리 파수꾼, 무지개다리 파수꾼, 무지개다리 파수꾼, 무...  [살랑살랑, CIEL, 곰개발씨, 썩어빠진문재앙의일당들, 썩어빠진문재앙의일당들, 김...\n",
            "              제목          아이디\n",
            "0      무지개다리 파수꾼         살랑살랑\n",
            "1      무지개다리 파수꾼         CIEL\n",
            "2      무지개다리 파수꾼         곰개발씨\n",
            "3      무지개다리 파수꾼  썩어빠진문재앙의일당들\n",
            "4      무지개다리 파수꾼  썩어빠진문재앙의일당들\n",
            "...          ...          ...\n",
            "48818       순정만화     zezeㅋㄷㅋㄷ\n",
            "48819       순정만화          8차원\n",
            "48820       순정만화          신수진\n",
            "48821       순정만화          서헤빗\n",
            "48822       순정만화         가을하늘\n",
            "\n",
            "[48823 rows x 2 columns]\n"
          ],
          "name": "stdout"
        }
      ]
    },
    {
      "cell_type": "code",
      "metadata": {
        "colab": {
          "base_uri": "https://localhost:8080/"
        },
        "id": "c6jEM7bp4U09",
        "outputId": "6f2c0246-245b-40d6-f60e-f74d89e90180"
      },
      "source": [
        "#데이터 합치기\n",
        "df=pd.concat([df_episode,df_omnibus,df_story,df_daum_trim])\n",
        "df=df.reset_index()\n",
        "print(df)\n",
        "df.to_parquet(\"all_comment_id.parquet\",compression='gzip')"
      ],
      "execution_count": 5,
      "outputs": [
        {
          "output_type": "stream",
          "text": [
            "         index    제목       아이디\n",
            "0            0  인생존망  fkqp****\n",
            "1            1  인생존망  kjh2****\n",
            "2            2  인생존망  mmoa****\n",
            "3            3  인생존망  ycg0****\n",
            "4            4  인생존망  dbgp****\n",
            "...        ...   ...       ...\n",
            "3011663  48818  순정만화  zezeㅋㄷㅋㄷ\n",
            "3011664  48819  순정만화       8차원\n",
            "3011665  48820  순정만화       신수진\n",
            "3011666  48821  순정만화       서헤빗\n",
            "3011667  48822  순정만화      가을하늘\n",
            "\n",
            "[3011668 rows x 3 columns]\n"
          ],
          "name": "stdout"
        }
      ]
    }
  ]
}