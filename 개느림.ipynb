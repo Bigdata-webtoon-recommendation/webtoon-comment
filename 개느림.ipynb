{
 "cells": [
  {
   "cell_type": "code",
   "execution_count": 1,
   "metadata": {
    "colab": {
     "base_uri": "https://localhost:8080/"
    },
    "id": "LB6bpKFrczWC",
    "outputId": "295ccc65-d97a-4201-de9c-1ed3546491e3"
   },
   "outputs": [],
   "source": [
    "import pandas as pd\n",
    "from fastparquet import write\n",
    "# 댓글 크롤링 데이터 불러옴\n",
    "df=pd.read_parquet('comment_id.parquet',engine='fastparquet')"
   ]
  },
  {
   "cell_type": "code",
   "execution_count": 2,
   "metadata": {
    "colab": {
     "base_uri": "https://localhost:8080/"
    },
    "id": "-9a_Yk7UedAb",
    "outputId": "78663b23-462d-415f-8651-874ffc176746"
   },
   "outputs": [
    {
     "name": "stdout",
     "output_type": "stream",
     "text": [
      "제목             0.0MHz  0.1초의 설렘  100%의 그녀  11년 후 우리는  12단곡괭이  12월   12차원 소년들  \\\n",
      "아이디                                                                            \n",
      "       불렉션        0.0       0.0       0.0        0.0     0.0   0.0       0.0   \n",
      "       찐          0.0       0.0       0.0        0.0     0.0   0.0       0.0   \n",
      " Lr매ㄱr고ㅍr         0.0       0.0       0.0        0.0     0.0   0.0       0.0   \n",
      " chahy            0.0       0.0       0.0        0.0     0.0   0.0       0.0   \n",
      " 곰지123            0.0       0.0       0.0        0.0     0.0   0.0       0.0   \n",
      "...               ...       ...       ...        ...     ...   ...       ...   \n",
      "＊ㄴδㅁξ - - ª..     0.0       0.0       0.0        0.0     0.0   0.0       0.0   \n",
      "＊오가＊              0.0       0.0       0.0        0.0     0.0   0.0       0.0   \n",
      "＊좋은생각＊            0.0       0.0       0.0        0.0     0.0   0.0       0.0   \n",
      "￡0ⓥe ⓘs...        0.0       0.0       0.0        0.0     0.0   0.0       0.0   \n",
      "￡ΟνΕ　 Ιε 。。♡      0.0       0.0       0.0        0.0     0.0   0.0       0.0   \n",
      "\n",
      "제목             180cm 그녀를 사랑해!  19년 뽀삐  19세기말 비망록  ...  휴니멀  흑룡연인   흑우  \\\n",
      "아이디                                               ...                   \n",
      "       불렉션                0.0     0.0        0.0  ...  0.0   0.0  0.0   \n",
      "       찐                  0.0     0.0        0.0  ...  0.0   0.0  0.0   \n",
      " Lr매ㄱr고ㅍr                 0.0     0.0        0.0  ...  0.0   0.0  0.0   \n",
      " chahy                    0.0     0.0        0.0  ...  0.0   0.0  0.0   \n",
      " 곰지123                    0.0     0.0        0.0  ...  0.0   0.0  0.0   \n",
      "...                       ...     ...        ...  ...  ...   ...  ...   \n",
      "＊ㄴδㅁξ - - ª..             0.0     0.0        0.0  ...  0.0   0.0  0.0   \n",
      "＊오가＊                      0.0     0.0        0.0  ...  0.0   0.0  0.0   \n",
      "＊좋은생각＊                    0.0     0.0        0.0  ...  0.0   0.0  0.0   \n",
      "￡0ⓥe ⓘs...                0.0     0.0        0.0  ...  0.0   0.0  0.0   \n",
      "￡ΟνΕ　 Ιε 。。♡              0.0     0.0        0.0  ...  0.0   0.0  0.0   \n",
      "\n",
      "제목             흔한 환생녀의 사정  흩날리는  흰둥이  히어로메이커  히어로즈 오브 레전드  힘내요 일본!...  힙한남자  \n",
      "아이디                                                                          \n",
      "       불렉션            0.0   0.0  0.0     0.0          0.0         0.0   0.0  \n",
      "       찐              0.0   0.0  0.0     0.0          0.0         0.0   0.0  \n",
      " Lr매ㄱr고ㅍr             0.0   0.0  0.0     0.0          0.0         0.0   0.0  \n",
      " chahy                0.0   0.0  0.0     0.0          0.0         0.0   0.0  \n",
      " 곰지123                0.0   0.0  0.0     0.0          0.0         0.0   0.0  \n",
      "...                   ...   ...  ...     ...          ...         ...   ...  \n",
      "＊ㄴδㅁξ - - ª..         0.0   0.0  0.0     0.0          0.0         0.0   0.0  \n",
      "＊오가＊                  0.0   0.0  0.0     0.0          0.0         0.0   0.0  \n",
      "＊좋은생각＊                0.0   0.0  0.0     0.0          0.0         0.0   0.0  \n",
      "￡0ⓥe ⓘs...            0.0   0.0  0.0     0.0          0.0         0.0   0.0  \n",
      "￡ΟνΕ　 Ιε 。。♡          0.0   0.0  0.0     0.0          0.0         0.0   0.0  \n",
      "\n",
      "[246412 rows x 1822 columns]\n"
     ]
    }
   ],
   "source": [
    "# 댓글 아이디 별로 분류, 웹툰 댓글 단 개수 값 넣어서\n",
    "df = df.groupby(['아이디','제목']).size().reset_index(name='count')\n",
    "df = df.pivot('아이디', '제목', 'count').fillna(0) \n",
    "print(df)\n",
    "df.to_parquet('trying.parquet', compression='gzip')\n",
    "#print(df)"
   ]
  },
  {
   "cell_type": "code",
   "execution_count": 3,
   "metadata": {
    "colab": {
     "base_uri": "https://localhost:8080/"
    },
    "id": "Owgsae640jGT",
    "outputId": "cc2acdd1-990e-4037-aa4e-fd1a716e5cae"
   },
   "outputs": [],
   "source": [
    "# 비슷한 사용자 k 명 찾기\n",
    "from sklearn.metrics.pairwise import cosine_similarity\n",
    "import operator\n",
    "\n",
    "def similar_users(user_id, matrix, k=5):\n",
    "    # create a df of just the current user\n",
    "    user = matrix[matrix.index == user_id]\n",
    "    \n",
    "    # and a df of all other users\n",
    "    other_users = matrix[matrix.index != user_id]\n",
    "    \n",
    "    # calc cosine similarity between user and each other user\n",
    "    similarities = cosine_similarity(user,other_users)[0].tolist()\n",
    "    \n",
    "    # create list of indices of these users\n",
    "    indices = other_users.index.tolist()\n",
    "    \n",
    "    # create key/values pairs of user index and their similarity\n",
    "    index_similarity = dict(zip(indices, similarities))\n",
    "    \n",
    "    # sort by similarity\n",
    "    index_similarity_sorted = sorted(index_similarity.items(), key=operator.itemgetter(1))\n",
    "    index_similarity_sorted.reverse()\n",
    "    \n",
    "    # grab k users off the top\n",
    "    top_users_similarities = index_similarity_sorted[:k]\n",
    "    users = [u[0] for u in top_users_similarities]\n",
    "    \n",
    "    return users\n",
    "    \n"
   ]
  },
  {
   "cell_type": "code",
   "execution_count": 4,
   "metadata": {
    "colab": {
     "base_uri": "https://localhost:8080/",
     "height": 450
    },
    "id": "fLMec6lQiZwW",
    "outputId": "390aec73-4daf-4dd4-f445-c4db1896afcd"
   },
   "outputs": [],
   "source": [
    "#비슷한 사용자들 평균내서, 추천 웹툰 목록 만듬\n",
    "def recommend_item(user_index, similar_user_indices, matrix):\n",
    "    \n",
    "    # load vectors for similar users\n",
    "    similar_users = matrix[matrix.index.isin(similar_user_indices)]\n",
    "    # calc avg ratings across the 3 similar users\n",
    "    similar_users = similar_users.mean(axis=0)\n",
    "    # convert to dataframe so its easy to sort and filter\n",
    "    similar_users_df = pd.DataFrame(similar_users, columns=['mean'])\n",
    "    \n",
    "    # load vector for the current user\n",
    "    user_df = matrix[matrix.index == user_index]\n",
    "    # transpose it so its easier to filter\n",
    "    user_df_transposed = user_df.transpose()\n",
    "    # rename the column as 'rating'\n",
    "    user_df_transposed.columns = ['rating']\n",
    "    # remove any rows without a 0 value. webtoon not watched yet\n",
    "    user_df_transposed = user_df_transposed[user_df_transposed['rating']==0]\n",
    "    # generate a list of webtoons the user has not seen\n",
    "    webtoon_unseen = user_df_transposed.index.tolist()\n",
    "    \n",
    "    # filter avg ratings of similar users for only webtoon the current user has not seen\n",
    "    similar_users_df_filtered = similar_users_df[similar_users_df.index.isin(webtoon_unseen)]\n",
    "    # order the dataframe\n",
    "    similar_users_df_ordered = similar_users_df_filtered.sort_values(by=['mean'], ascending=False)\n",
    "    print(similar_users_df_ordered)\n",
    "    \n",
    "    return similar_users_df_ordered #items\n",
    "\n"
   ]
  },
  {
   "cell_type": "code",
   "execution_count": 5,
   "metadata": {},
   "outputs": [],
   "source": [
    "def recommend_by_user(user_webtoon_input) :\n",
    "    # 전체 데이터 프레임에 최근 본 웹툰 3개의 가중치값을 1로 두어 행을 추가\n",
    "    \n",
    "    df=pd.read_parquet('trying.parquet',engine='fastparquet')\n",
    "    df.loc['user_input']={user_webtoon_input[0]:1,user_webtoon_input[1]:1,user_webtoon_input[2]:1}\n",
    "    df=df.fillna(0)\n",
    "    \n",
    "    current_user = \"user_input\"\n",
    "    # try it out\n",
    "    similar_user_indices = similar_users(current_user, df)\n",
    "    print(similar_user_indices)\n",
    "\n",
    "    recommend_list  = recommend_item(current_user, similar_user_indices, df)\n",
    "    return recommend_list \n",
    "    "
   ]
  },
  {
   "cell_type": "code",
   "execution_count": 6,
   "metadata": {},
   "outputs": [
    {
     "name": "stdout",
     "output_type": "stream",
     "text": [
      "['wo30****', 'sr09****', 'rbdh****', 'kwui****', 'ose0****']\n",
      "            mean\n",
      "제목              \n",
      "일상날개짓        0.6\n",
      "환생동물학교       0.2\n",
      "하이브 3        0.2\n",
      "놓지마 정신줄      0.2\n",
      "밥 먹고 갈래...   0.2\n",
      "...          ...\n",
      "마왕비 납시오      0.0\n",
      "마야비          0.0\n",
      "마애(磨崖)       0.0\n",
      "마스크걸         0.0\n",
      "힙한남자         0.0\n",
      "\n",
      "[1819 rows x 1 columns]\n"
     ]
    }
   ],
   "source": [
    "# 사용자가 최근 본 웹툰 3개 여기에 입력\n",
    "user_webtoon_input=['놓정동화','슈퍼 시크릿','삼국지톡']\n",
    "\n",
    "recommend_list= recommend_by_user(user_webtoon_input)"
   ]
  },
  {
   "cell_type": "code",
   "execution_count": 7,
   "metadata": {},
   "outputs": [
    {
     "name": "stdout",
     "output_type": "stream",
     "text": [
      "            mean\n",
      "제목              \n",
      "일상날개짓        0.6\n",
      "환생동물학교       0.2\n",
      "하이브 3        0.2\n",
      "놓지마 정신줄      0.2\n",
      "밥 먹고 갈래...   0.2\n",
      "...          ...\n",
      "마왕비 납시오      0.0\n",
      "마야비          0.0\n",
      "마애(磨崖)       0.0\n",
      "마스크걸         0.0\n",
      "힙한남자         0.0\n",
      "\n",
      "[1819 rows x 1 columns]\n"
     ]
    }
   ],
   "source": [
    "print(recommend_list)"
   ]
  },
  {
   "cell_type": "code",
   "execution_count": 8,
   "metadata": {
    "id": "cxc5kYReiqJm"
   },
   "outputs": [
    {
     "data": {
      "text/html": [
       "<div>\n",
       "<style scoped>\n",
       "    .dataframe tbody tr th:only-of-type {\n",
       "        vertical-align: middle;\n",
       "    }\n",
       "\n",
       "    .dataframe tbody tr th {\n",
       "        vertical-align: top;\n",
       "    }\n",
       "\n",
       "    .dataframe thead th {\n",
       "        text-align: right;\n",
       "    }\n",
       "</style>\n",
       "<table border=\"1\" class=\"dataframe\">\n",
       "  <thead>\n",
       "    <tr style=\"text-align: right;\">\n",
       "      <th></th>\n",
       "      <th>mean</th>\n",
       "    </tr>\n",
       "    <tr>\n",
       "      <th>제목</th>\n",
       "      <th></th>\n",
       "    </tr>\n",
       "  </thead>\n",
       "  <tbody>\n",
       "    <tr>\n",
       "      <th>일상날개짓</th>\n",
       "      <td>0.6</td>\n",
       "    </tr>\n",
       "    <tr>\n",
       "      <th>환생동물학교</th>\n",
       "      <td>0.2</td>\n",
       "    </tr>\n",
       "    <tr>\n",
       "      <th>하이브 3</th>\n",
       "      <td>0.2</td>\n",
       "    </tr>\n",
       "    <tr>\n",
       "      <th>놓지마 정신줄</th>\n",
       "      <td>0.2</td>\n",
       "    </tr>\n",
       "    <tr>\n",
       "      <th>밥 먹고 갈래...</th>\n",
       "      <td>0.2</td>\n",
       "    </tr>\n",
       "    <tr>\n",
       "      <th>부부생활</th>\n",
       "      <td>0.2</td>\n",
       "    </tr>\n",
       "    <tr>\n",
       "      <th>열정호구</th>\n",
       "      <td>0.2</td>\n",
       "    </tr>\n",
       "    <tr>\n",
       "      <th>2015 소름</th>\n",
       "      <td>0.2</td>\n",
       "    </tr>\n",
       "    <tr>\n",
       "      <th>0.0MHz</th>\n",
       "      <td>0.0</td>\n",
       "    </tr>\n",
       "    <tr>\n",
       "      <th>오늘의 초능력</th>\n",
       "      <td>0.0</td>\n",
       "    </tr>\n",
       "  </tbody>\n",
       "</table>\n",
       "</div>"
      ],
      "text/plain": [
       "            mean\n",
       "제목              \n",
       "일상날개짓        0.6\n",
       "환생동물학교       0.2\n",
       "하이브 3        0.2\n",
       "놓지마 정신줄      0.2\n",
       "밥 먹고 갈래...   0.2\n",
       "부부생활         0.2\n",
       "열정호구         0.2\n",
       "2015 소름      0.2\n",
       "0.0MHz       0.0\n",
       "오늘의 초능력      0.0"
      ]
     },
     "execution_count": 8,
     "metadata": {},
     "output_type": "execute_result"
    }
   ],
   "source": [
    "recommend_list.head(10)"
   ]
  },
  {
   "cell_type": "code",
   "execution_count": 9,
   "metadata": {
    "scrolled": false
   },
   "outputs": [
    {
     "name": "stdout",
     "output_type": "stream",
     "text": [
      "제목             0.0MHz  0.1초의 설렘  100%의 그녀  11년 후 우리는  12단곡괭이  12월   12차원 소년들  \\\n",
      "아이디                                                                            \n",
      "       불렉션        0.0       0.0       0.0        0.0     0.0   0.0       0.0   \n",
      "       찐          0.0       0.0       0.0        0.0     0.0   0.0       0.0   \n",
      " Lr매ㄱr고ㅍr         0.0       0.0       0.0        0.0     0.0   0.0       0.0   \n",
      " chahy            0.0       0.0       0.0        0.0     0.0   0.0       0.0   \n",
      " 곰지123            0.0       0.0       0.0        0.0     0.0   0.0       0.0   \n",
      "...               ...       ...       ...        ...     ...   ...       ...   \n",
      "＊ㄴδㅁξ - - ª..     0.0       0.0       0.0        0.0     0.0   0.0       0.0   \n",
      "＊오가＊              0.0       0.0       0.0        0.0     0.0   0.0       0.0   \n",
      "＊좋은생각＊            0.0       0.0       0.0        0.0     0.0   0.0       0.0   \n",
      "￡0ⓥe ⓘs...        0.0       0.0       0.0        0.0     0.0   0.0       0.0   \n",
      "￡ΟνΕ　 Ιε 。。♡      0.0       0.0       0.0        0.0     0.0   0.0       0.0   \n",
      "\n",
      "제목             180cm 그녀를 사랑해!  19년 뽀삐  19세기말 비망록  ...  휴니멀  흑룡연인   흑우  \\\n",
      "아이디                                               ...                   \n",
      "       불렉션                0.0     0.0        0.0  ...  0.0   0.0  0.0   \n",
      "       찐                  0.0     0.0        0.0  ...  0.0   0.0  0.0   \n",
      " Lr매ㄱr고ㅍr                 0.0     0.0        0.0  ...  0.0   0.0  0.0   \n",
      " chahy                    0.0     0.0        0.0  ...  0.0   0.0  0.0   \n",
      " 곰지123                    0.0     0.0        0.0  ...  0.0   0.0  0.0   \n",
      "...                       ...     ...        ...  ...  ...   ...  ...   \n",
      "＊ㄴδㅁξ - - ª..             0.0     0.0        0.0  ...  0.0   0.0  0.0   \n",
      "＊오가＊                      0.0     0.0        0.0  ...  0.0   0.0  0.0   \n",
      "＊좋은생각＊                    0.0     0.0        0.0  ...  0.0   0.0  0.0   \n",
      "￡0ⓥe ⓘs...                0.0     0.0        0.0  ...  0.0   0.0  0.0   \n",
      "￡ΟνΕ　 Ιε 。。♡              0.0     0.0        0.0  ...  0.0   0.0  0.0   \n",
      "\n",
      "제목             흔한 환생녀의 사정  흩날리는  흰둥이  히어로메이커  히어로즈 오브 레전드  힘내요 일본!...  힙한남자  \n",
      "아이디                                                                          \n",
      "       불렉션            0.0   0.0  0.0     0.0          0.0         0.0   0.0  \n",
      "       찐              0.0   0.0  0.0     0.0          0.0         0.0   0.0  \n",
      " Lr매ㄱr고ㅍr             0.0   0.0  0.0     0.0          0.0         0.0   0.0  \n",
      " chahy                0.0   0.0  0.0     0.0          0.0         0.0   0.0  \n",
      " 곰지123                0.0   0.0  0.0     0.0          0.0         0.0   0.0  \n",
      "...                   ...   ...  ...     ...          ...         ...   ...  \n",
      "＊ㄴδㅁξ - - ª..         0.0   0.0  0.0     0.0          0.0         0.0   0.0  \n",
      "＊오가＊                  0.0   0.0  0.0     0.0          0.0         0.0   0.0  \n",
      "＊좋은생각＊                0.0   0.0  0.0     0.0          0.0         0.0   0.0  \n",
      "￡0ⓥe ⓘs...            0.0   0.0  0.0     0.0          0.0         0.0   0.0  \n",
      "￡ΟνΕ　 Ιε 。。♡          0.0   0.0  0.0     0.0          0.0         0.0   0.0  \n",
      "\n",
      "[246412 rows x 1822 columns]\n"
     ]
    }
   ],
   "source": [
    "print(df)"
   ]
  },
  {
   "cell_type": "code",
   "execution_count": null,
   "metadata": {},
   "outputs": [],
   "source": []
  }
 ],
 "metadata": {
  "colab": {
   "name": "recommend_comment.ipynb",
   "provenance": []
  },
  "kernelspec": {
   "display_name": "Python 3",
   "language": "python",
   "name": "python3"
  },
  "language_info": {
   "codemirror_mode": {
    "name": "ipython",
    "version": 3
   },
   "file_extension": ".py",
   "mimetype": "text/x-python",
   "name": "python",
   "nbconvert_exporter": "python",
   "pygments_lexer": "ipython3",
   "version": "3.7.3"
  }
 },
 "nbformat": 4,
 "nbformat_minor": 1
}
