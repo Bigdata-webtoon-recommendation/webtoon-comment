{
  "nbformat": 4,
  "nbformat_minor": 0,
  "metadata": {
    "colab": {
      "name": "recommend_comment.ipynb",
      "provenance": []
    },
    "kernelspec": {
      "name": "python3",
      "display_name": "Python 3"
    }
  },
  "cells": [
    {
      "cell_type": "code",
      "metadata": {
        "colab": {
          "base_uri": "https://localhost:8080/"
        },
        "id": "LB6bpKFrczWC",
        "outputId": "295ccc65-d97a-4201-de9c-1ed3546491e3"
      },
      "source": [
        "import pandas as pd\n",
        "from fastparquet import write\n",
        "df=pd.read_parquet('comment_id.parquet',engine='fastparquet')\n",
        "\n",
        "df.insert(2,\"count\",1)\n",
        "print(df)\n",
        "\n",
        "df = df.groupby(['아이디','제목']).size().reset_index(name='count')\n",
        "print(df.loc[df['count']==2])\n",
        "print(df)"
      ],
      "execution_count": 2,
      "outputs": [
        {
          "output_type": "stream",
          "text": [
            "         제목       아이디  count\n",
            "0      인생존망  fkqp****      1\n",
            "1      인생존망  kjh2****      1\n",
            "2      인생존망  mmoa****      1\n",
            "3      인생존망  ycg0****      1\n",
            "4      인생존망  dbgp****      1\n",
            "...     ...       ...    ...\n",
            "48818  순정만화  zezeㅋㄷㅋㄷ      1\n",
            "48819  순정만화       8차원      1\n",
            "48820  순정만화       신수진      1\n",
            "48821  순정만화       서헤빗      1\n",
            "48822  순정만화      가을하늘      1\n",
            "\n",
            "[3046741 rows x 3 columns]\n",
            "         아이디          제목  count\n",
            "23         -   11년 후 우리는      2\n",
            "26         -        CCTV      2\n",
            "27         -      Dr.브레인      2\n",
            "28         -        GONE      2\n",
            "32         -  가내수공업 Ent.      2\n",
            "...      ...         ...    ...\n",
            "1699880   히스        파륜아이      2\n",
            "1699890  히에이        코알랄라      2\n",
            "1699896   히피         제비전      2\n",
            "1699931  힘들어        까야제맛      2\n",
            "1699935  힙합걸         에비츄      2\n",
            "\n",
            "[264432 rows x 3 columns]\n",
            "                   아이디              제목  count\n",
            "0                  불렉션            실버볼1      1\n",
            "1                    찐            이장본색      1\n",
            "2             Lr매ㄱr고ㅍr        반짝반짝 컬링부      1\n",
            "3                chahy         검둥이 이야기      1\n",
            "4                곰지123  커피와 하루 ternate      1\n",
            "...                ...             ...    ...\n",
            "1699940  ＊ㄴδㅁξ - - ª..        황야의 무법자들      1\n",
            "1699941           ＊오가＊            혼담별곡      1\n",
            "1699942         ＊좋은생각＊     당신과 당신의 도서관      1\n",
            "1699943     ￡0ⓥe ⓘs...              할매      1\n",
            "1699944   ￡ΟνΕ　 Ιε 。。♡          트레져헌터2      1\n",
            "\n",
            "[1699945 rows x 3 columns]\n"
          ],
          "name": "stdout"
        }
      ]
    },
    {
      "cell_type": "code",
      "metadata": {
        "colab": {
          "base_uri": "https://localhost:8080/"
        },
        "id": "-9a_Yk7UedAb",
        "outputId": "78663b23-462d-415f-8651-874ffc176746"
      },
      "source": [
        "df = df.pivot('아이디', '제목', 'count').fillna(0)\n",
        "print(df)"
      ],
      "execution_count": 3,
      "outputs": [
        {
          "output_type": "stream",
          "text": [
            "제목             0.0MHz  0.1초의 설렘  100%의 그녀  ...  히어로즈 오브 레전드  힘내요 일본!...  힙한남자\n",
            "아이디                                        ...                               \n",
            "       불렉션        0.0       0.0       0.0  ...          0.0         0.0   0.0\n",
            "       찐          0.0       0.0       0.0  ...          0.0         0.0   0.0\n",
            " Lr매ㄱr고ㅍr         0.0       0.0       0.0  ...          0.0         0.0   0.0\n",
            " chahy            0.0       0.0       0.0  ...          0.0         0.0   0.0\n",
            " 곰지123            0.0       0.0       0.0  ...          0.0         0.0   0.0\n",
            "...               ...       ...       ...  ...          ...         ...   ...\n",
            "＊ㄴδㅁξ - - ª..     0.0       0.0       0.0  ...          0.0         0.0   0.0\n",
            "＊오가＊              0.0       0.0       0.0  ...          0.0         0.0   0.0\n",
            "＊좋은생각＊            0.0       0.0       0.0  ...          0.0         0.0   0.0\n",
            "￡0ⓥe ⓘs...        0.0       0.0       0.0  ...          0.0         0.0   0.0\n",
            "￡ΟνΕ　 Ιε 。。♡      0.0       0.0       0.0  ...          0.0         0.0   0.0\n",
            "\n",
            "[246412 rows x 1822 columns]\n"
          ],
          "name": "stdout"
        }
      ]
    },
    {
      "cell_type": "code",
      "metadata": {
        "colab": {
          "base_uri": "https://localhost:8080/"
        },
        "id": "Owgsae640jGT",
        "outputId": "cc2acdd1-990e-4037-aa4e-fd1a716e5cae"
      },
      "source": [
        "from sklearn.metrics.pairwise import cosine_similarity\n",
        "import operator\n",
        "\n",
        "def similar_users(user_id, matrix, k=3):\n",
        "    # create a df of just the current user\n",
        "    user = matrix[matrix.index == user_id]\n",
        "    \n",
        "    # and a df of all other users\n",
        "    other_users = matrix[matrix.index != user_id]\n",
        "    \n",
        "    # calc cosine similarity between user and each other user\n",
        "    similarities = cosine_similarity(user,other_users)[0].tolist()\n",
        "    \n",
        "    # create list of indices of these users\n",
        "    indices = other_users.index.tolist()\n",
        "    \n",
        "    # create key/values pairs of user index and their similarity\n",
        "    index_similarity = dict(zip(indices, similarities))\n",
        "    \n",
        "    # sort by similarity\n",
        "    index_similarity_sorted = sorted(index_similarity.items(), key=operator.itemgetter(1))\n",
        "    index_similarity_sorted.reverse()\n",
        "    \n",
        "    # grab k users off the top\n",
        "    top_users_similarities = index_similarity_sorted[:k]\n",
        "    users = [u[0] for u in top_users_similarities]\n",
        "    \n",
        "    return users\n",
        "    \n",
        "# 사용자가 최근 본 웹툰 3개 입력\n",
        "user_webtoon_input=['인생존망','독립일기','유미의 세포들']\n",
        "# 전체 데이터 프레임에 최근 본 웹툰 3개의 가중치값을 1로 두어 행을 추가\n",
        "df.loc['user_input']={'인생존망':1,'독립일기':1,'유미의 세포들':1}\n",
        "df=df.fillna(0)\n",
        "\n",
        "current_user = \"user_input\"\n",
        "# try it out\n",
        "similar_user_indices = similar_users(current_user, df)\n",
        "print(similar_user_indices)\n",
        "#=> [30773, 39021, 45603]"
      ],
      "execution_count": 4,
      "outputs": [
        {
          "output_type": "stream",
          "text": [
            "['72ro****', 'wh07****', 'dam3****']\n"
          ],
          "name": "stdout"
        }
      ]
    },
    {
      "cell_type": "code",
      "metadata": {
        "colab": {
          "base_uri": "https://localhost:8080/"
        },
        "id": "1ReCZBQdjATP",
        "outputId": "1b304bec-57ee-40d2-9c16-a1107fa05144"
      },
      "source": [
        "print(df)"
      ],
      "execution_count": 7,
      "outputs": [
        {
          "output_type": "stream",
          "text": [
            "제목            0.0MHz  0.1초의 설렘  100%의 그녀  ...  히어로즈 오브 레전드  힘내요 일본!...  힙한남자\n",
            "아이디                                       ...                               \n",
            "       불렉션       0.0       0.0       0.0  ...          0.0         0.0   0.0\n",
            "       찐         0.0       0.0       0.0  ...          0.0         0.0   0.0\n",
            " Lr매ㄱr고ㅍr        0.0       0.0       0.0  ...          0.0         0.0   0.0\n",
            " chahy           0.0       0.0       0.0  ...          0.0         0.0   0.0\n",
            " 곰지123           0.0       0.0       0.0  ...          0.0         0.0   0.0\n",
            "...              ...       ...       ...  ...          ...         ...   ...\n",
            "＊오가＊             0.0       0.0       0.0  ...          0.0         0.0   0.0\n",
            "＊좋은생각＊           0.0       0.0       0.0  ...          0.0         0.0   0.0\n",
            "￡0ⓥe ⓘs...       0.0       0.0       0.0  ...          0.0         0.0   0.0\n",
            "￡ΟνΕ　 Ιε 。。♡     0.0       0.0       0.0  ...          0.0         0.0   0.0\n",
            "user_input       0.0       0.0       0.0  ...          0.0         0.0   0.0\n",
            "\n",
            "[246413 rows x 1822 columns]\n"
          ],
          "name": "stdout"
        }
      ]
    },
    {
      "cell_type": "code",
      "metadata": {
        "colab": {
          "base_uri": "https://localhost:8080/",
          "height": 450
        },
        "id": "fLMec6lQiZwW",
        "outputId": "390aec73-4daf-4dd4-f445-c4db1896afcd"
      },
      "source": [
        "def recommend_item(user_index, similar_user_indices, matrix):\n",
        "    \n",
        "    # load vectors for similar users\n",
        "    similar_users = matrix[matrix.index.isin(similar_user_indices)]\n",
        "    # calc avg ratings across the 3 similar users\n",
        "    similar_users = similar_users.mean(axis=0)\n",
        "    # convert to dataframe so its easy to sort and filter\n",
        "    similar_users_df = pd.DataFrame(similar_users, columns=['mean'])\n",
        "    \n",
        "    # load vector for the current user\n",
        "    user_df = matrix[matrix.index == user_index]\n",
        "    # transpose it so its easier to filter\n",
        "    user_df_transposed = user_df.transpose()\n",
        "    # rename the column as 'rating'\n",
        "    user_df_transposed.columns = ['rating']\n",
        "    # remove any rows without a 0 value. webtoon not watched yet\n",
        "    user_df_transposed = user_df_transposed[user_df_transposed['rating']==0]\n",
        "    # generate a list of webtoons the user has not seen\n",
        "    webtoon_unseen = user_df_transposed.index.tolist()\n",
        "    \n",
        "    # filter avg ratings of similar users for only webtoon the current user has not seen\n",
        "    similar_users_df_filtered = similar_users_df[similar_users_df.index.isin(webtoon_unseen)]\n",
        "    # order the dataframe\n",
        "    similar_users_df_ordered = similar_users_df_filtered.sort_values(by=['mean'], ascending=False)\n",
        "\n",
        "    return similar_users_df_ordered #items\n",
        "# try it out\n",
        "recommend_item(current_user, similar_user_indices, df)"
      ],
      "execution_count": 27,
      "outputs": [
        {
          "output_type": "execute_result",
          "data": {
            "text/html": [
              "<div>\n",
              "<style scoped>\n",
              "    .dataframe tbody tr th:only-of-type {\n",
              "        vertical-align: middle;\n",
              "    }\n",
              "\n",
              "    .dataframe tbody tr th {\n",
              "        vertical-align: top;\n",
              "    }\n",
              "\n",
              "    .dataframe thead th {\n",
              "        text-align: right;\n",
              "    }\n",
              "</style>\n",
              "<table border=\"1\" class=\"dataframe\">\n",
              "  <thead>\n",
              "    <tr style=\"text-align: right;\">\n",
              "      <th></th>\n",
              "      <th>mean</th>\n",
              "    </tr>\n",
              "    <tr>\n",
              "      <th>제목</th>\n",
              "      <th></th>\n",
              "    </tr>\n",
              "  </thead>\n",
              "  <tbody>\n",
              "    <tr>\n",
              "      <th>놓정동화</th>\n",
              "      <td>0.666667</td>\n",
              "    </tr>\n",
              "    <tr>\n",
              "      <th>슈퍼 시크릿</th>\n",
              "      <td>0.333333</td>\n",
              "    </tr>\n",
              "    <tr>\n",
              "      <th>삼국지톡</th>\n",
              "      <td>0.333333</td>\n",
              "    </tr>\n",
              "    <tr>\n",
              "      <th>아이돌 연구소</th>\n",
              "      <td>0.333333</td>\n",
              "    </tr>\n",
              "    <tr>\n",
              "      <th>덴마</th>\n",
              "      <td>0.333333</td>\n",
              "    </tr>\n",
              "    <tr>\n",
              "      <th>...</th>\n",
              "      <td>...</td>\n",
              "    </tr>\n",
              "    <tr>\n",
              "      <th>마왕비 납시오</th>\n",
              "      <td>0.000000</td>\n",
              "    </tr>\n",
              "    <tr>\n",
              "      <th>마야비</th>\n",
              "      <td>0.000000</td>\n",
              "    </tr>\n",
              "    <tr>\n",
              "      <th>마애(磨崖)</th>\n",
              "      <td>0.000000</td>\n",
              "    </tr>\n",
              "    <tr>\n",
              "      <th>마스크걸</th>\n",
              "      <td>0.000000</td>\n",
              "    </tr>\n",
              "    <tr>\n",
              "      <th>힙한남자</th>\n",
              "      <td>0.000000</td>\n",
              "    </tr>\n",
              "  </tbody>\n",
              "</table>\n",
              "<p>1819 rows × 1 columns</p>\n",
              "</div>"
            ],
            "text/plain": [
              "             mean\n",
              "제목               \n",
              "놓정동화     0.666667\n",
              "슈퍼 시크릿   0.333333\n",
              "삼국지톡     0.333333\n",
              "아이돌 연구소  0.333333\n",
              "덴마       0.333333\n",
              "...           ...\n",
              "마왕비 납시오  0.000000\n",
              "마야비      0.000000\n",
              "마애(磨崖)   0.000000\n",
              "마스크걸     0.000000\n",
              "힙한남자     0.000000\n",
              "\n",
              "[1819 rows x 1 columns]"
            ]
          },
          "metadata": {
            "tags": []
          },
          "execution_count": 27
        }
      ]
    },
    {
      "cell_type": "code",
      "metadata": {
        "id": "cxc5kYReiqJm"
      },
      "source": [
        ""
      ],
      "execution_count": null,
      "outputs": []
    }
  ]
}